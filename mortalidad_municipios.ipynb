{
  "nbformat": 4,
  "nbformat_minor": 0,
  "metadata": {
    "colab": {
      "provenance": [],
      "authorship_tag": "ABX9TyOi1XE40u7xCznixrQVhDCq",
      "include_colab_link": true
    },
    "kernelspec": {
      "name": "python3",
      "display_name": "Python 3"
    },
    "language_info": {
      "name": "python"
    }
  },
  "cells": [
    {
      "cell_type": "markdown",
      "metadata": {
        "id": "view-in-github",
        "colab_type": "text"
      },
      "source": [
        "<a href=\"https://colab.research.google.com/github/andres9119/andres9119/blob/main/mortalidad_municipios.ipynb\" target=\"_parent\"><img src=\"https://colab.research.google.com/assets/colab-badge.svg\" alt=\"Open In Colab\"/></a>"
      ]
    },
    {
      "cell_type": "code",
      "execution_count": null,
      "metadata": {
        "id": "BknIaIX87cVE"
      },
      "outputs": [],
      "source": [
        "import numpy as np\n",
        "import pandas as pd\n",
        "import matplotlib.pyplot as plt\n",
        "import seaborn as sns"
      ]
    },
    {
      "cell_type": "code",
      "source": [
        "# Cargar los datos de cada hoja en un DataFrame\n",
        "datos_2017 = pd.read_excel('mortalidad_villarosario.xlsx', sheet_name='2017')\n",
        "datos_2018 = pd.read_excel('mortalidad_villarosario.xlsx', sheet_name='2018')\n",
        "datos_2019 = pd.read_excel('mortalidad_villarosario.xlsx', sheet_name='2019')\n",
        "datos_2020 = pd.read_excel('mortalidad_villarosario.xlsx', sheet_name='2020')\n",
        "datos_2021 = pd.read_excel('mortalidad_villarosario.xlsx', sheet_name='2021')\n",
        "\n",
        "# Solicitar al usuario que ingrese el año que desea ver\n",
        "año_elegido = input(\"Por favor, ingresa el año que deseas ver (por ejemplo, 2018): \")\n",
        "\n",
        "# Seleccionar el DataFrame correspondiente al año elegido\n",
        "if año_elegido == '2017':\n",
        "    datos_año = datos_2017\n",
        "elif año_elegido == '2018':\n",
        "    datos_año = datos_2018\n",
        "elif año_elegido == '2019':\n",
        "    datos_año = datos_2019\n",
        "elif año_elegido == '2020':\n",
        "    datos_año = datos_2020\n",
        "elif año_elegido == '2021':\n",
        "    datos_año = datos_2021\n",
        "else:\n",
        "    print(\"El año ingresado no es válido.\")\n",
        "\n",
        "datos_año.head()\n"
      ],
      "metadata": {
        "id": "IZP1T8UWS0tQ"
      },
      "execution_count": null,
      "outputs": []
    },
    {
      "cell_type": "code",
      "source": [
        " (print(datos_año.columns))\n",
        " type(año_elegido)\n",
        " año_elegido\n",
        " año_elegido = int(año_elegido)"
      ],
      "metadata": {
        "id": "jS8MCjTjWrFt"
      },
      "execution_count": null,
      "outputs": []
    },
    {
      "cell_type": "code",
      "source": [
        "# Verificar si la columna del año elegido existe en el DataFrame\n",
        "if año_elegido in datos_año.columns:\n",
        "    # Convertir los valores de la columna del año elegido a tipo numérico si es posible\n",
        "    datos_año[año_elegido] = pd.to_numeric(datos_año[año_elegido], errors='coerce')\n",
        "    # Ordenar el DataFrame por la columna del año elegido de mayor a menor\n",
        "    datos_ordenados = datos_año.sort_values(by=año_elegido, ascending=False)\n",
        "\n",
        "else:\n",
        "    print(\"El año ingresado no es válido o no existe en el DataFrame.\")\n",
        "\n",
        "datos_ordenados.head(5)"
      ],
      "metadata": {
        "id": "TYRvGsw3UMO3"
      },
      "execution_count": null,
      "outputs": []
    },
    {
      "cell_type": "code",
      "source": [
        "# Solicitar al usuario que ingrese la población total\n",
        "poblacion_total = float(input(\"Ingrese la población total: \"))\n",
        "\n",
        "# Calcular las muertes total como la sumatoria de los valores en la columna del año elegido\n",
        "tasa_muertes_total = datos_ordenados[año_elegido].sum()\n",
        "muertes_total=(tasa_muertes_total*poblacion_total)/100000\n",
        "print(\"el total de muertes es-->  \" ,muertes_total)"
      ],
      "metadata": {
        "id": "lx4qU6bv3l13"
      },
      "execution_count": null,
      "outputs": []
    },
    {
      "cell_type": "code",
      "source": [
        "# Calcular el tercer cuartil\n",
        "tercer_cuartil = datos_ordenados[año_elegido].quantile(0.75)\n",
        "\n",
        "# Filtrar los datos donde el subgrupo no sea \"TOTAL\" ni el sexo sea \"MASCULINO\"\n",
        "datos_filtrados = datos_ordenados[ (datos_ordenados['Subgrupo'] != 'TOTAL') &\n",
        "                                   (datos_ordenados['Sexo'] != 'MASCULINO') &\n",
        "                                   (datos_ordenados['Sexo'] != 'FEMENINO')]\n",
        "\n",
        "\n",
        "# Mostrar los primeros N registros del cuartil más alto\n",
        "datos_filtrados.head(10)\n",
        "\n"
      ],
      "metadata": {
        "id": "JxHZIjC8EJp-"
      },
      "execution_count": null,
      "outputs": []
    },
    {
      "cell_type": "code",
      "source": [
        "\n",
        "\n",
        "# Calcular la columna de personas afectadas\n",
        "datos_filtrados.loc[:, 'personas_afectadas'] = datos_filtrados[año_elegido] * poblacion_total / 100000\n",
        "\n",
        "# Calcular el porcentaje de afectación para cada número de personas atendidas\n",
        "datos_filtrados.loc[:, 'porcentaje_de_afectacion'] = (datos_filtrados['personas_afectadas'] / muertes_total) * 100\n",
        "\n",
        "# Filtrar los datos por encima del tercer cuartil\n",
        "# datos_filtrados = datos_filtrados[datos_filtrados[año_elegido] > tercer_cuartil]\n",
        "\n",
        "# Mostrar los primeros N registros con la nueva columna\n",
        "datos_filtrados.head(10)\n",
        "\n"
      ],
      "metadata": {
        "id": "kiU5b5jKcOvm"
      },
      "execution_count": null,
      "outputs": []
    },
    {
      "cell_type": "code",
      "source": [
        "# Solicitar al usuario que ingrese el número de datos que desea trabajar\n",
        "cantidad_datos = int(input(\"Por favor, ingrese el número de datos que desea puntuar para priorizar: \"))\n",
        "\n",
        "# Seleccionar el número de datos especificado por el usuario\n",
        "datos_trabajo = datos_filtrados.head(cantidad_datos)\n",
        "\n",
        "# Mostrar el DataFrame con el número especificado de datos\n",
        "print(\"Los primeros\", cantidad_datos, \"datos para trabajar son:\")\n",
        "datos_trabajo"
      ],
      "metadata": {
        "id": "pMxC1pdSg2Ih"
      },
      "execution_count": null,
      "outputs": []
    },
    {
      "cell_type": "code",
      "source": [
        "# Crear la nueva columna \"magnitud\" en el DataFrame datos_trabajo\n",
        "datos_trabajo.loc[:, 'magnitud'] = datos_trabajo['porcentaje_de_afectacion'].apply(lambda x: 10 if x >= 50 else (8 if 5 <= x < 50 else (6 if 0.5 <= x < 4.9 else 4)))\n",
        "\n",
        "# Mostrar el DataFrame con la nueva columna\n",
        "print(\"Datos con la nueva columna 'magnitud':\")\n",
        "datos_trabajo"
      ],
      "metadata": {
        "id": "b02MFCMOg_iR"
      },
      "execution_count": null,
      "outputs": []
    },
    {
      "cell_type": "code",
      "source": [
        "# Crear listas vacías para almacenar los valores ingresados por el usuario\n",
        "severidad = []\n",
        "eficacia = []\n",
        "factibilidad = []\n",
        "\n",
        "# Iterar sobre los primeros 'n' registros del DataFrame\n",
        "for i in range(len(datos_trabajo)):\n",
        "    # Obtener el nombre del subgrupo para mostrarlo en el mensaje\n",
        "    nombre_subgrupo = datos_trabajo.iloc[i]['Subgrupo']\n",
        "\n",
        "    # Solicitar la entrada del usuario para cada nueva columna\n",
        "    valor_severidad = float(input(f\"Ingrese el valor de severidad para '{nombre_subgrupo}': \"))\n",
        "    valor_eficacia = float(input(f\"Ingrese el valor de eficacia para '{nombre_subgrupo}': \"))\n",
        "    valor_factibilidad = float(input(f\"Ingrese el valor de factibilidad para '{nombre_subgrupo}': \"))\n",
        "\n",
        "    # Agregar los valores ingresados a las listas respectivas\n",
        "    severidad.append(valor_severidad)\n",
        "    eficacia.append(valor_eficacia)\n",
        "    factibilidad.append(valor_factibilidad)\n",
        "\n",
        "# Agregar las listas como nuevas columnas en el DataFrame datos_trabajo\n",
        "datos_trabajo.loc[:, 'severidad'] = severidad\n",
        "datos_trabajo.loc[:, 'eficacia'] = eficacia\n",
        "datos_trabajo.loc[:, 'factibilidad'] = factibilidad\n",
        "\n",
        "# Mostrar el DataFrame actualizado con las nuevas columnas\n",
        "print(\"Datos con las nuevas columnas 'severidad', 'eficacia' y 'factibilidad':\")\n",
        "datos_trabajo"
      ],
      "metadata": {
        "id": "Yw8--zXVjNRR"
      },
      "execution_count": null,
      "outputs": []
    },
    {
      "cell_type": "code",
      "source": [
        "# Calcular el valor de la nueva columna\n",
        "puntuacion_hanlon = (datos_trabajo['porcentaje_de_afectacion'] + datos_trabajo['severidad']) * datos_trabajo['eficacia'] * datos_trabajo['factibilidad']\n",
        "\n",
        "# Convertir la Serie puntuacion_hanlon en un DataFrame\n",
        "df_puntuacion_hanlon = puntuacion_hanlon.to_frame()\n",
        "\n",
        "# Agregar la nueva columna al DataFrame con el nombre \"puntuación Hanlon\" utilizando .loc[]\n",
        "datos_trabajo.loc[:, 'puntuación Hanlon'] = puntuacion_hanlon\n",
        "\n",
        "# Mostrar el DataFrame actualizado con la nueva columna\n",
        "print(\"Datos con la nueva columna 'puntuación Hanlon':\")\n",
        "datos_trabajo"
      ],
      "metadata": {
        "id": "V0snJlLEjdkl"
      },
      "execution_count": null,
      "outputs": []
    },
    {
      "cell_type": "code",
      "source": [
        "# Ordenar el DataFrame por la columna 'puntuación Hanlon' de mayor a menor\n",
        "df_ordenado = datos_trabajo.sort_values(by='puntuación Hanlon', ascending=False)"
      ],
      "metadata": {
        "id": "fui48exJjwri"
      },
      "execution_count": null,
      "outputs": []
    },
    {
      "cell_type": "code",
      "source": [
        "# Seleccionar las columnas que se desean mostrar\n",
        "columnas_mostrar = ['Grupo','Subgrupo', 'personas_afectadas',  'puntuación Hanlon']\n",
        "pd.set_option('display.expand_frame_repr', False)\n",
        "# Mostrar el DataFrame ordenado con las columnas seleccionadas\n",
        "df_ordenado[columnas_mostrar]"
      ],
      "metadata": {
        "id": "LVymrYELj2TA"
      },
      "execution_count": null,
      "outputs": []
    }
  ]
}