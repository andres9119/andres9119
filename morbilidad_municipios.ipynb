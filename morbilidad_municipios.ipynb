{
  "nbformat": 4,
  "nbformat_minor": 0,
  "metadata": {
    "colab": {
      "provenance": [],
      "authorship_tag": "ABX9TyMGYm1jX7Yw8eMhJuOFtJiu",
      "include_colab_link": true
    },
    "kernelspec": {
      "name": "python3",
      "display_name": "Python 3"
    },
    "language_info": {
      "name": "python"
    }
  },
  "cells": [
    {
      "cell_type": "markdown",
      "metadata": {
        "id": "view-in-github",
        "colab_type": "text"
      },
      "source": [
        "<a href=\"https://colab.research.google.com/github/andres9119/andres9119/blob/main/morbilidad_municipios.ipynb\" target=\"_parent\"><img src=\"https://colab.research.google.com/assets/colab-badge.svg\" alt=\"Open In Colab\"/></a>"
      ]
    },
    {
      "cell_type": "code",
      "execution_count": null,
      "metadata": {
        "id": "6E3AaMeMMYkk"
      },
      "outputs": [],
      "source": [
        "import numpy as np\n",
        "import pandas as pd\n",
        "import matplotlib.pyplot as plt\n",
        "import seaborn as sns"
      ]
    },
    {
      "cell_type": "code",
      "source": [
        "# Cargar datos de cada hoja en un DataFrame de Pandas\n",
        "datos = pd.read_excel('morbilidad_herran.xlsx')\n",
        "\n"
      ],
      "metadata": {
        "id": "B-iFxm7-O-Ts"
      },
      "execution_count": null,
      "outputs": []
    },
    {
      "cell_type": "code",
      "source": [
        "\n",
        "\n",
        "# Ordenar el DataFrame descendientemente por una columna específica, por ejemplo, \"Número de Personas Atendidas\"\n",
        "datos_ordenados = datos.sort_values(by='total atendidos', ascending=False)\n",
        "\n",
        "# Ver los primeros 5 registros del DataFrame ordenado\n",
        "print(f\"Los primeros N registros del año 2022, ordenados descendientemente por 'Número de Personas Atendidas', son:\")\n",
        "datos_ordenados.head(10)\n"
      ],
      "metadata": {
        "id": "rK95fUqDQnUM"
      },
      "execution_count": null,
      "outputs": []
    },
    {
      "cell_type": "code",
      "source": [
        "# Solicitar al usuario que ingrese la población total\n",
        "poblacion_total = float(input(\"Ingrese la población total: \"))\n",
        "\n",
        "# Calcular  total de casos como la sumatoria de los valores en la columna numero de personas atendidas\n",
        "casos_total = datos_ordenados['total atendidos'].sum()\n",
        "casos_total\n",
        "\n"
      ],
      "metadata": {
        "id": "6mNLqcsE8Rsy"
      },
      "execution_count": null,
      "outputs": []
    },
    {
      "cell_type": "code",
      "source": [
        "# Calcular el tercer cuartil\n",
        "tercer_cuartil = datos_ordenados['total atendidos'].quantile(0.75)\n",
        "\n",
        "# Filtrar los datos por encima del tercer cuartil\n",
        "cuartil_mas_alto = datos_ordenados[datos_ordenados['total atendidos'] > tercer_cuartil]"
      ],
      "metadata": {
        "id": "LuKOooMp8htc"
      },
      "execution_count": null,
      "outputs": []
    },
    {
      "cell_type": "code",
      "source": [
        "# Solicitar la cantidad de población total a analizar\n",
        "#poblacion_total = int(input(\"Escriba la cantidad de población total a analizar --> \"))\n",
        "\n",
        "# Calcular el porcentaje de afectación para cada número de personas atendidas\n",
        "#datos_ordenados.loc[:, 'porcentaje_de_afectacion'] = (cuartil_mas_alto['total atendidos'] / casos_total) * 100\n",
        "\n",
        "# Mostrar el DataFrame con la nueva columna\n",
        "#datos_ordenados.head(15)\n",
        "\n",
        "\n",
        "\n",
        "# Calcular el porcentaje de afectación solo para los registros por encima del tercer cuartil\n",
        "datos_ordenados.loc[datos_ordenados['total atendidos'] > tercer_cuartil, 'porcentaje_de_afectacion'] = (\n",
        "    datos_ordenados['total atendidos'] / casos_total * 100\n",
        ")\n",
        "\n",
        "datos_ordenados.head()\n"
      ],
      "metadata": {
        "id": "mm4ULR4Onhm1"
      },
      "execution_count": null,
      "outputs": []
    },
    {
      "cell_type": "code",
      "source": [
        "# Crear la nueva columna \"magnitud\" en el DataFrame\n",
        "datos_ordenados.loc['magnitud'] = datos_ordenados['porcentaje_de_afectacion'].apply(lambda x: 10 if x >= 50 else (8 if 5 <= x < 50 else (6 if 0.5 <= x < 4.9 else 4)))\n",
        "\n",
        "\n",
        "datos_trabajo = datos_ordenados[datos_ordenados['porcentaje_de_afectacion'].notna()]\n",
        "\n",
        "datos_trabajo.head(10)\n"
      ],
      "metadata": {
        "id": "IFD8Rnx23IJB"
      },
      "execution_count": null,
      "outputs": []
    },
    {
      "cell_type": "code",
      "source": [
        "0# Crear listas vacías para almacenar los valores ingresados por el usuario\n",
        "severidad = []\n",
        "eficacia = []\n",
        "factibilidad = []\n",
        "\n",
        "# Iterar sobre los primeros 'n' registros del DataFrame\n",
        "for i in range(len(datos_trabajo)):\n",
        "    # Obtener el nombre del subgrupo para mostrarlo en el mensaje\n",
        "    nombre_subgrupo = datos_trabajo.iloc[i]['Subgrupo de Causa']\n",
        "\n",
        "    # Solicitar la entrada del usuario para cada nueva columna\n",
        "    valor_severidad = float(input(f\"Ingrese el valor de severidad para '{nombre_subgrupo}': \"))\n",
        "    valor_eficacia = float(input(f\"Ingrese el valor de eficacia para '{nombre_subgrupo}': \"))\n",
        "    valor_factibilidad = float(input(f\"Ingrese el valor de factibilidad para '{nombre_subgrupo}': \"))\n",
        "\n",
        "    # Agregar los valores ingresados a las listas respectivas\n",
        "    severidad.append(valor_severidad)\n",
        "    eficacia.append(valor_eficacia)\n",
        "    factibilidad.append(valor_factibilidad)\n",
        "\n",
        "# Agregar las listas como nuevas columnas en el DataFrame datos_trabajo\n",
        "datos_trabajo.loc[:, 'severidad'] = severidad\n",
        "datos_trabajo.loc[:, 'eficacia'] = eficacia\n",
        "datos_trabajo.loc[:, 'factibilidad'] = factibilidad\n",
        "\n",
        "# Mostrar el DataFrame actualizado con las nuevas columnas\n",
        "print(\"Datos con las nuevas columnas 'severidad', 'eficacia' y 'factibilidad':\")\n",
        "datos_trabajo\n",
        "\n",
        "\n"
      ],
      "metadata": {
        "id": "9fjyMyAOC5a_"
      },
      "execution_count": null,
      "outputs": []
    },
    {
      "cell_type": "code",
      "source": [
        "# Calcular el valor de la nueva columna\n",
        "puntuacion_hanlon = (datos_trabajo['porcentaje_de_afectacion'] + datos_trabajo['severidad']) * datos_trabajo['eficacia'] * datos_trabajo['factibilidad']\n",
        "\n",
        "# Convertir la Serie puntuacion_hanlon en un DataFrame\n",
        "df_puntuacion_hanlon = puntuacion_hanlon.to_frame()\n",
        "\n",
        "# Agregar la nueva columna al DataFrame con el nombre \"puntuación Hanlon\" utilizando .loc[]\n",
        "datos_trabajo.loc[:, 'puntuación Hanlon'] = puntuacion_hanlon\n",
        "\n",
        "# Mostrar el DataFrame actualizado con la nueva columna\n",
        "print(\"Datos con la nueva columna 'puntuación Hanlon':\")\n",
        "datos_trabajo\n",
        "\n"
      ],
      "metadata": {
        "id": "8c4cgck4EqVZ"
      },
      "execution_count": null,
      "outputs": []
    },
    {
      "cell_type": "code",
      "source": [
        "# Ordenar el DataFrame por la columna 'puntuación Hanlon' de mayor a menor\n",
        "df_ordenado = datos_trabajo.sort_values(by='puntuación Hanlon', ascending=False)"
      ],
      "metadata": {
        "id": "Gzk4ij7nFniF"
      },
      "execution_count": null,
      "outputs": []
    },
    {
      "cell_type": "code",
      "source": [
        "# Seleccionar las columnas que se desean mostrar\n",
        "columnas_mostrar = ['Gran Causa','Subgrupo de Causa', 'total atendidos',  'puntuación Hanlon']\n",
        "pd.set_option('display.expand_frame_repr', False)\n",
        "# Mostrar el DataFrame ordenado con las columnas seleccionadas\n",
        "df_ordenado[columnas_mostrar]"
      ],
      "metadata": {
        "id": "LZk1X5soF2_c"
      },
      "execution_count": null,
      "outputs": []
    }
  ]
}