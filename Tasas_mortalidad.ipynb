{
  "nbformat": 4,
  "nbformat_minor": 0,
  "metadata": {
    "colab": {
      "provenance": [],
      "authorship_tag": "ABX9TyPxwclX96gHaWWLJU0QX0GX",
      "include_colab_link": true
    },
    "kernelspec": {
      "name": "python3",
      "display_name": "Python 3"
    },
    "language_info": {
      "name": "python"
    }
  },
  "cells": [
    {
      "cell_type": "markdown",
      "metadata": {
        "id": "view-in-github",
        "colab_type": "text"
      },
      "source": [
        "<a href=\"https://colab.research.google.com/github/andres9119/andres9119/blob/main/Tasas_mortalidad.ipynb\" target=\"_parent\"><img src=\"https://colab.research.google.com/assets/colab-badge.svg\" alt=\"Open In Colab\"/></a>"
      ]
    },
    {
      "cell_type": "code",
      "execution_count": null,
      "metadata": {
        "id": "Gvdu33IiiDVj"
      },
      "outputs": [],
      "source": [
        "import numpy as np\n",
        "import pandas as pd\n",
        "import matplotlib.pyplot as plt\n",
        "import seaborn as sns\n",
        "\n",
        "Listar=int(input(\"escriba la cantidad de registros que desea ver --> \" ))"
      ]
    },
    {
      "cell_type": "code",
      "source": [
        "df_excel = pd.read_excel(\"Muertes.xlsx\")"
      ],
      "metadata": {
        "id": "XUE_y26ViWsT"
      },
      "execution_count": null,
      "outputs": []
    },
    {
      "cell_type": "code",
      "source": [
        "df_excel.to_csv(\"Muertes.csv\", index=False)"
      ],
      "metadata": {
        "id": "1-6TrMJ5kuBs"
      },
      "execution_count": null,
      "outputs": []
    },
    {
      "cell_type": "code",
      "source": [
        "df = pd.read_csv(\"Muertes.csv\")"
      ],
      "metadata": {
        "id": "sUM527XzlA7r"
      },
      "execution_count": null,
      "outputs": []
    },
    {
      "cell_type": "code",
      "source": [
        "df.head(Listar)"
      ],
      "metadata": {
        "id": "KXYk4oiblyUC"
      },
      "execution_count": null,
      "outputs": []
    },
    {
      "cell_type": "code",
      "source": [
        "# Seleccionar las columnas específicas\n",
        "agno=input(\"Ingrese el año que desea ver :\" )\n",
        "df_seleccionado = df.loc[:, ['Subgrupo', agno]]"
      ],
      "metadata": {
        "id": "v8i_oVjkrimL"
      },
      "execution_count": null,
      "outputs": []
    },
    {
      "cell_type": "code",
      "source": [
        "df_seleccionado.head(Listar)\n"
      ],
      "metadata": {
        "id": "8KQjqHvntRct"
      },
      "execution_count": null,
      "outputs": []
    },
    {
      "cell_type": "code",
      "source": [
        "# Eliminar los registros donde el subgrupo sea \"TOTAL\"\n",
        "df_filtrado = df_seleccionado[df_seleccionado['Subgrupo'] != 'TOTAL']"
      ],
      "metadata": {
        "id": "NQg4ppsA6OXs"
      },
      "execution_count": null,
      "outputs": []
    },
    {
      "cell_type": "code",
      "source": [
        "df_filtrado.head(Listar)"
      ],
      "metadata": {
        "id": "hFx_xjAh6RMo"
      },
      "execution_count": null,
      "outputs": []
    },
    {
      "cell_type": "code",
      "source": [
        "# Ordenar df_filtrado por la columna '2021' de mayor a menor\n",
        "df_ordenado = df_filtrado.sort_values(by=agno, ascending=False)\n",
        "df_ordenado.head(Listar)"
      ],
      "metadata": {
        "id": "5SRNuATU8Fyn"
      },
      "execution_count": null,
      "outputs": []
    },
    {
      "cell_type": "code",
      "source": [
        "poblacion=int(input(\"Escriba la cantidad de población total a analizar --> \"))\n",
        "constante=100000"
      ],
      "metadata": {
        "id": "QGcvYhikRVAN"
      },
      "execution_count": null,
      "outputs": []
    },
    {
      "cell_type": "code",
      "source": [
        "# Crear la nueva columna 'magnitud'\n",
        "df_ordenado['magnitud'] = round(df_ordenado['2020'] * poblacion/constante).astype(int)\n",
        "\n",
        "df_ordenado.head(Listar)"
      ],
      "metadata": {
        "id": "NPOl1CBERrrb"
      },
      "execution_count": null,
      "outputs": []
    },
    {
      "cell_type": "code",
      "source": [
        "# Calcular el valor de la nueva columna\n",
        "df_ordenado['porcentaje magnitud'] = df_ordenado['magnitud'] * 100 / poblacion\n",
        "pd.set_option('display.expand_frame_repr', False)\n",
        "# Mostrar los primeros registros del DataFrame con la nueva columna\n",
        "print(df_ordenado.head())"
      ],
      "metadata": {
        "id": "Xk5XoQajh1LY"
      },
      "execution_count": null,
      "outputs": []
    },
    {
      "cell_type": "code",
      "source": [
        "df_ordenado=df_ordenado.head(Listar)"
      ],
      "metadata": {
        "id": "1IsBw6xoaB_2"
      },
      "execution_count": null,
      "outputs": []
    },
    {
      "cell_type": "code",
      "source": [
        "n=Listar\n",
        "\n",
        "# Crear listas vacías para almacenar los datos ingresados por el usuario\n",
        "severidad = []\n",
        "eficacia = []\n",
        "factibilidad = []\n",
        "\n",
        "# Iterar sobre los primeros 'n' registros del DataFrame\n",
        "for i in range(n):\n",
        "    # Obtener el nombre del subgrupo para mostrarlo en el mensaje\n",
        "    nombre_subgrupo = df_ordenado.iloc[i]['Subgrupo']\n",
        "\n",
        "    # Solicitar la entrada del usuario para cada nueva columna\n",
        "    valor1 = float(input(f\"Ingrese el valor dado a severidad para '{nombre_subgrupo}': \"))\n",
        "    valor2 = float(input(f\"Ingrese el valor dado a eficacia para '{nombre_subgrupo}': \"))\n",
        "    valor3 = float(input(f\"Ingrese el valor dado a factibilidad para '{nombre_subgrupo}': \"))\n",
        "\n",
        "    # Agregar los valores ingresados a las listas respectivas\n",
        "    severidad.append(valor1)\n",
        "    eficacia.append(valor2)\n",
        "    factibilidad.append(valor3)\n",
        "\n",
        "df_ordenado.loc[:, 'severidad'] = severidad\n",
        "df_ordenado.loc[:, 'eficacia'] = eficacia\n",
        "df_ordenado.loc[:, 'factibilidad'] = factibilidad\n",
        "\n",
        "# Mostrar los primeros registros actualizados del DataFrame\n",
        "df_ordenado.head(n)\n"
      ],
      "metadata": {
        "id": "OO4p2QScZVF2"
      },
      "execution_count": null,
      "outputs": []
    },
    {
      "cell_type": "code",
      "source": [
        "# Calcular el valor de la nueva columna\n",
        "puntuacion_hanlon = (df_ordenado['porcentaje magnitud'] + df_ordenado['severidad']) * df_ordenado['eficacia'] * df_ordenado['factibilidad']\n",
        "# Convertir la Serie puntuacion_hanlon en un DataFrame\n",
        "df_puntuacion_hanlon = puntuacion_hanlon.to_frame()\n",
        "\n",
        "\n",
        "# Agregar la nueva columna al DataFrame con el nombre \"puntuación Hanlon\"\n",
        "df_ordenado['puntuación Hanlon'] = puntuacion_hanlon"
      ],
      "metadata": {
        "id": "CwlKS_LPemls"
      },
      "execution_count": null,
      "outputs": []
    },
    {
      "cell_type": "code",
      "source": [
        "df_ordenado"
      ],
      "metadata": {
        "id": "YJdF8NYafhwO"
      },
      "execution_count": null,
      "outputs": []
    },
    {
      "cell_type": "code",
      "source": [
        "# Ordenar el DataFrame por la columna 'puntuación Hanlon' de mayor a menor\n",
        "df_ordenado = df_ordenado.sort_values(by='puntuación Hanlon', ascending=False)\n"
      ],
      "metadata": {
        "id": "VUUDk7fEDv8Z"
      },
      "execution_count": null,
      "outputs": []
    },
    {
      "cell_type": "code",
      "source": [
        "# Seleccionar las columnas que se desean mostrar\n",
        "columnas_mostrar = ['Subgrupo', '2020',  'puntuación Hanlon']\n",
        "pd.set_option('display.expand_frame_repr', False)\n",
        "# Mostrar el DataFrame ordenado con las columnas seleccionadas\n",
        "print(df_ordenado[columnas_mostrar])"
      ],
      "metadata": {
        "id": "IjNhUuR_Ec7f"
      },
      "execution_count": null,
      "outputs": []
    },
    {
      "cell_type": "code",
      "source": [
        "# Crear una función que aplique estilos a las columnas especificadas\n",
        "def resaltar_columnas(s):\n",
        "    color_map = {'2021': 'background-color: yellow',\n",
        "                 'puntuación Hanlon': 'background-color: lightblue'}\n",
        "    return [color_map.get(column, '') for column in s.index]\n",
        "\n",
        "# Aplicar la función de estilo a las columnas especificadas\n",
        "styled_df = df_ordenado.style.apply(resaltar_columnas, axis=0)\n",
        "\n",
        "# Mostrar el DataFrame con los estilos aplicados\n",
        "styled_df\n"
      ],
      "metadata": {
        "id": "9-r3oeddHHy-"
      },
      "execution_count": null,
      "outputs": []
    },
    {
      "cell_type": "code",
      "source": [],
      "metadata": {
        "id": "AYhGm0lRsYhv"
      },
      "execution_count": null,
      "outputs": []
    }
  ]
}